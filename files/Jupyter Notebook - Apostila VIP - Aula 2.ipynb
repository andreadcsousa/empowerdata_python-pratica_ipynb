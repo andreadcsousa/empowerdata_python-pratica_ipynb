{
 "cells": [
  {
   "cell_type": "markdown",
   "id": "9d1ef9df",
   "metadata": {},
   "source": [
    "<img src=\"https://i.imgur.com/tQPRI2m.png\" alt=\"Semana do Python\" />"
   ]
  },
  {
   "cell_type": "markdown",
   "id": "341499c0",
   "metadata": {},
   "source": [
    "<h2> O que vamos aprender nessa aula?</h2>\n",
    "\n",
    "- **Automatizar um processo com a linguagem Python:**\n",
    "    - Instalar e utilizar bibliotecas\n",
    "    - Buscar dados de ações automaticamente\n",
    "    - Gerar algumas estatísticas com esses dados\n",
    "    - Gerar um gráfico simples de linha    \n",
    "    - Automatizar o controle do teclado e mouse com o **pyautogui**    \n",
    "    - Utilizar strings de múltiplas linhas\n",
    "    - Enviar e-mails de forma automática\n",
    "    \n",
    "    \n",
    "- **Projeto da aula:**\n",
    "    - Você trabalha em uma empresa de investimentos e todos os dias precisa enviar um e-mail com o valor da cotação de algumas ações. O e-mail precisa conter as informações dos últimos seis meses:\n",
    "        - Cotação mínima da ação\n",
    "        - Cotação máxima da ação\n",
    "        - Cotação do dia\n",
    "    "
   ]
  },
  {
   "cell_type": "markdown",
   "id": "fda5c354",
   "metadata": {},
   "source": [
    "<h2 style=\"color: #37709F\">Obtendo dados de ações de forma automática</h2>"
   ]
  },
  {
   "cell_type": "markdown",
   "id": "670070f8",
   "metadata": {},
   "source": [
    "<h3 style=\"color: #2F666F\">O que é o Yahoo Finanças?</h3>\n",
    "\n",
    "- Site que fornece notícias sobre finanças, incluindo **cotações de ações**.\n",
    "- Link: [https://br.financas.yahoo.com/](https://br.financas.yahoo.com/)"
   ]
  },
  {
   "cell_type": "markdown",
   "id": "dbff35f6",
   "metadata": {},
   "source": [
    "<img src=\"https://i.imgur.com/RclWQyf.png\" alt=\"bibliotecas\" />"
   ]
  },
  {
   "cell_type": "markdown",
   "id": "84ff4184",
   "metadata": {},
   "source": [
    "<h3 style=\"color: #2F666F\">Instalando a biblioteca</h3>"
   ]
  },
  {
   "cell_type": "code",
   "execution_count": 23,
   "id": "6ebc1751",
   "metadata": {},
   "outputs": [],
   "source": [
    "!pip install yfinance"
   ]
  },
  {
   "cell_type": "code",
   "execution_count": 1,
   "id": "ee0d8117",
   "metadata": {},
   "outputs": [],
   "source": [
    "import yfinance"
   ]
  },
  {
   "cell_type": "markdown",
   "id": "4aa04762",
   "metadata": {},
   "source": [
    "<h3 style=\"color: #2F666F\">Buscando as cotações de uma Ação</h3>\n",
    "\n",
    "- **Ticker** é o código de uma ação."
   ]
  },
  {
   "cell_type": "code",
   "execution_count": 2,
   "id": "140d4206",
   "metadata": {},
   "outputs": [
    {
     "name": "stdout",
     "output_type": "stream",
     "text": [
      "Digite o código da ação: PETR4.SA\n"
     ]
    }
   ],
   "source": [
    "ticker = input('Digite o código da ação: ')\n",
    "dados = yfinance.Ticker(ticker)"
   ]
  },
  {
   "cell_type": "code",
   "execution_count": 3,
   "id": "90f117c1",
   "metadata": {},
   "outputs": [
    {
     "data": {
      "text/html": [
       "<div>\n",
       "<style scoped>\n",
       "    .dataframe tbody tr th:only-of-type {\n",
       "        vertical-align: middle;\n",
       "    }\n",
       "\n",
       "    .dataframe tbody tr th {\n",
       "        vertical-align: top;\n",
       "    }\n",
       "\n",
       "    .dataframe thead th {\n",
       "        text-align: right;\n",
       "    }\n",
       "</style>\n",
       "<table border=\"1\" class=\"dataframe\">\n",
       "  <thead>\n",
       "    <tr style=\"text-align: right;\">\n",
       "      <th></th>\n",
       "      <th>Open</th>\n",
       "      <th>High</th>\n",
       "      <th>Low</th>\n",
       "      <th>Close</th>\n",
       "      <th>Volume</th>\n",
       "      <th>Dividends</th>\n",
       "      <th>Stock Splits</th>\n",
       "    </tr>\n",
       "    <tr>\n",
       "      <th>Date</th>\n",
       "      <th></th>\n",
       "      <th></th>\n",
       "      <th></th>\n",
       "      <th></th>\n",
       "      <th></th>\n",
       "      <th></th>\n",
       "      <th></th>\n",
       "    </tr>\n",
       "  </thead>\n",
       "  <tbody>\n",
       "    <tr>\n",
       "      <th>2022-09-05</th>\n",
       "      <td>33.849998</td>\n",
       "      <td>34.110001</td>\n",
       "      <td>33.150002</td>\n",
       "      <td>33.340000</td>\n",
       "      <td>76337600</td>\n",
       "      <td>0</td>\n",
       "      <td>0</td>\n",
       "    </tr>\n",
       "    <tr>\n",
       "      <th>2022-09-06</th>\n",
       "      <td>32.270000</td>\n",
       "      <td>32.590000</td>\n",
       "      <td>31.510000</td>\n",
       "      <td>32.099998</td>\n",
       "      <td>111813500</td>\n",
       "      <td>0</td>\n",
       "      <td>0</td>\n",
       "    </tr>\n",
       "    <tr>\n",
       "      <th>2022-09-08</th>\n",
       "      <td>32.310001</td>\n",
       "      <td>32.779999</td>\n",
       "      <td>31.400000</td>\n",
       "      <td>31.799999</td>\n",
       "      <td>63159800</td>\n",
       "      <td>0</td>\n",
       "      <td>0</td>\n",
       "    </tr>\n",
       "    <tr>\n",
       "      <th>2022-09-09</th>\n",
       "      <td>32.490002</td>\n",
       "      <td>32.669998</td>\n",
       "      <td>31.700001</td>\n",
       "      <td>31.790001</td>\n",
       "      <td>49871900</td>\n",
       "      <td>0</td>\n",
       "      <td>0</td>\n",
       "    </tr>\n",
       "    <tr>\n",
       "      <th>2022-09-12</th>\n",
       "      <td>32.150002</td>\n",
       "      <td>32.730000</td>\n",
       "      <td>31.459999</td>\n",
       "      <td>31.480000</td>\n",
       "      <td>71374500</td>\n",
       "      <td>0</td>\n",
       "      <td>0</td>\n",
       "    </tr>\n",
       "    <tr>\n",
       "      <th>2022-09-13</th>\n",
       "      <td>30.940001</td>\n",
       "      <td>31.440001</td>\n",
       "      <td>30.520000</td>\n",
       "      <td>30.650000</td>\n",
       "      <td>88327800</td>\n",
       "      <td>0</td>\n",
       "      <td>0</td>\n",
       "    </tr>\n",
       "    <tr>\n",
       "      <th>2022-09-14</th>\n",
       "      <td>30.750000</td>\n",
       "      <td>31.430000</td>\n",
       "      <td>30.629999</td>\n",
       "      <td>31.120001</td>\n",
       "      <td>49039700</td>\n",
       "      <td>0</td>\n",
       "      <td>0</td>\n",
       "    </tr>\n",
       "    <tr>\n",
       "      <th>2022-09-15</th>\n",
       "      <td>30.920000</td>\n",
       "      <td>31.230000</td>\n",
       "      <td>30.799999</td>\n",
       "      <td>31.059999</td>\n",
       "      <td>45553200</td>\n",
       "      <td>0</td>\n",
       "      <td>0</td>\n",
       "    </tr>\n",
       "    <tr>\n",
       "      <th>2022-09-16</th>\n",
       "      <td>30.860001</td>\n",
       "      <td>30.950001</td>\n",
       "      <td>30.340000</td>\n",
       "      <td>30.780001</td>\n",
       "      <td>107303600</td>\n",
       "      <td>0</td>\n",
       "      <td>0</td>\n",
       "    </tr>\n",
       "    <tr>\n",
       "      <th>2022-09-19</th>\n",
       "      <td>30.500000</td>\n",
       "      <td>31.379999</td>\n",
       "      <td>29.879999</td>\n",
       "      <td>31.270000</td>\n",
       "      <td>65559900</td>\n",
       "      <td>0</td>\n",
       "      <td>0</td>\n",
       "    </tr>\n",
       "    <tr>\n",
       "      <th>2022-09-20</th>\n",
       "      <td>31.420000</td>\n",
       "      <td>31.600000</td>\n",
       "      <td>30.840000</td>\n",
       "      <td>31.090000</td>\n",
       "      <td>67798200</td>\n",
       "      <td>0</td>\n",
       "      <td>0</td>\n",
       "    </tr>\n",
       "    <tr>\n",
       "      <th>2022-09-21</th>\n",
       "      <td>31.350000</td>\n",
       "      <td>31.469999</td>\n",
       "      <td>30.889999</td>\n",
       "      <td>31.170000</td>\n",
       "      <td>58812200</td>\n",
       "      <td>0</td>\n",
       "      <td>0</td>\n",
       "    </tr>\n",
       "    <tr>\n",
       "      <th>2022-09-22</th>\n",
       "      <td>31.480000</td>\n",
       "      <td>32.080002</td>\n",
       "      <td>31.030001</td>\n",
       "      <td>31.940001</td>\n",
       "      <td>69764300</td>\n",
       "      <td>0</td>\n",
       "      <td>0</td>\n",
       "    </tr>\n",
       "    <tr>\n",
       "      <th>2022-09-23</th>\n",
       "      <td>31.320000</td>\n",
       "      <td>31.389999</td>\n",
       "      <td>29.770000</td>\n",
       "      <td>29.940001</td>\n",
       "      <td>138630800</td>\n",
       "      <td>0</td>\n",
       "      <td>0</td>\n",
       "    </tr>\n",
       "    <tr>\n",
       "      <th>2022-09-26</th>\n",
       "      <td>29.719999</td>\n",
       "      <td>30.080000</td>\n",
       "      <td>29.270000</td>\n",
       "      <td>29.290001</td>\n",
       "      <td>42934600</td>\n",
       "      <td>0</td>\n",
       "      <td>0</td>\n",
       "    </tr>\n",
       "    <tr>\n",
       "      <th>2022-09-27</th>\n",
       "      <td>29.660000</td>\n",
       "      <td>29.879999</td>\n",
       "      <td>29.580000</td>\n",
       "      <td>29.670000</td>\n",
       "      <td>71087600</td>\n",
       "      <td>0</td>\n",
       "      <td>0</td>\n",
       "    </tr>\n",
       "    <tr>\n",
       "      <th>2022-09-28</th>\n",
       "      <td>29.670000</td>\n",
       "      <td>29.820000</td>\n",
       "      <td>28.580000</td>\n",
       "      <td>29.270000</td>\n",
       "      <td>104670700</td>\n",
       "      <td>0</td>\n",
       "      <td>0</td>\n",
       "    </tr>\n",
       "    <tr>\n",
       "      <th>2022-09-29</th>\n",
       "      <td>28.990000</td>\n",
       "      <td>29.400000</td>\n",
       "      <td>28.600000</td>\n",
       "      <td>29.309999</td>\n",
       "      <td>87536500</td>\n",
       "      <td>0</td>\n",
       "      <td>0</td>\n",
       "    </tr>\n",
       "    <tr>\n",
       "      <th>2022-09-30</th>\n",
       "      <td>29.219999</td>\n",
       "      <td>30.490000</td>\n",
       "      <td>29.000000</td>\n",
       "      <td>29.799999</td>\n",
       "      <td>121637100</td>\n",
       "      <td>0</td>\n",
       "      <td>0</td>\n",
       "    </tr>\n",
       "    <tr>\n",
       "      <th>2022-10-03</th>\n",
       "      <td>31.910000</td>\n",
       "      <td>32.639999</td>\n",
       "      <td>31.660000</td>\n",
       "      <td>32.180000</td>\n",
       "      <td>179694100</td>\n",
       "      <td>0</td>\n",
       "      <td>0</td>\n",
       "    </tr>\n",
       "    <tr>\n",
       "      <th>2022-10-04</th>\n",
       "      <td>32.900002</td>\n",
       "      <td>32.980000</td>\n",
       "      <td>31.840000</td>\n",
       "      <td>31.889999</td>\n",
       "      <td>55771000</td>\n",
       "      <td>0</td>\n",
       "      <td>0</td>\n",
       "    </tr>\n",
       "  </tbody>\n",
       "</table>\n",
       "</div>"
      ],
      "text/plain": [
       "                 Open       High        Low      Close     Volume  Dividends  \\\n",
       "Date                                                                           \n",
       "2022-09-05  33.849998  34.110001  33.150002  33.340000   76337600          0   \n",
       "2022-09-06  32.270000  32.590000  31.510000  32.099998  111813500          0   \n",
       "2022-09-08  32.310001  32.779999  31.400000  31.799999   63159800          0   \n",
       "2022-09-09  32.490002  32.669998  31.700001  31.790001   49871900          0   \n",
       "2022-09-12  32.150002  32.730000  31.459999  31.480000   71374500          0   \n",
       "2022-09-13  30.940001  31.440001  30.520000  30.650000   88327800          0   \n",
       "2022-09-14  30.750000  31.430000  30.629999  31.120001   49039700          0   \n",
       "2022-09-15  30.920000  31.230000  30.799999  31.059999   45553200          0   \n",
       "2022-09-16  30.860001  30.950001  30.340000  30.780001  107303600          0   \n",
       "2022-09-19  30.500000  31.379999  29.879999  31.270000   65559900          0   \n",
       "2022-09-20  31.420000  31.600000  30.840000  31.090000   67798200          0   \n",
       "2022-09-21  31.350000  31.469999  30.889999  31.170000   58812200          0   \n",
       "2022-09-22  31.480000  32.080002  31.030001  31.940001   69764300          0   \n",
       "2022-09-23  31.320000  31.389999  29.770000  29.940001  138630800          0   \n",
       "2022-09-26  29.719999  30.080000  29.270000  29.290001   42934600          0   \n",
       "2022-09-27  29.660000  29.879999  29.580000  29.670000   71087600          0   \n",
       "2022-09-28  29.670000  29.820000  28.580000  29.270000  104670700          0   \n",
       "2022-09-29  28.990000  29.400000  28.600000  29.309999   87536500          0   \n",
       "2022-09-30  29.219999  30.490000  29.000000  29.799999  121637100          0   \n",
       "2022-10-03  31.910000  32.639999  31.660000  32.180000  179694100          0   \n",
       "2022-10-04  32.900002  32.980000  31.840000  31.889999   55771000          0   \n",
       "\n",
       "            Stock Splits  \n",
       "Date                      \n",
       "2022-09-05             0  \n",
       "2022-09-06             0  \n",
       "2022-09-08             0  \n",
       "2022-09-09             0  \n",
       "2022-09-12             0  \n",
       "2022-09-13             0  \n",
       "2022-09-14             0  \n",
       "2022-09-15             0  \n",
       "2022-09-16             0  \n",
       "2022-09-19             0  \n",
       "2022-09-20             0  \n",
       "2022-09-21             0  \n",
       "2022-09-22             0  \n",
       "2022-09-23             0  \n",
       "2022-09-26             0  \n",
       "2022-09-27             0  \n",
       "2022-09-28             0  \n",
       "2022-09-29             0  \n",
       "2022-09-30             0  \n",
       "2022-10-03             0  \n",
       "2022-10-04             0  "
      ]
     },
     "execution_count": 3,
     "metadata": {},
     "output_type": "execute_result"
    }
   ],
   "source": [
    "dados.history()"
   ]
  },
  {
   "cell_type": "markdown",
   "id": "61dbba52",
   "metadata": {},
   "source": [
    "<h4>Configurando o período histórico</h4>\n",
    "\n",
    "- **Ano:** y\n",
    "- **Mês:** mo\n",
    "- **Dia:** d"
   ]
  },
  {
   "cell_type": "code",
   "execution_count": 4,
   "id": "a088ac2f",
   "metadata": {},
   "outputs": [
    {
     "data": {
      "text/html": [
       "<div>\n",
       "<style scoped>\n",
       "    .dataframe tbody tr th:only-of-type {\n",
       "        vertical-align: middle;\n",
       "    }\n",
       "\n",
       "    .dataframe tbody tr th {\n",
       "        vertical-align: top;\n",
       "    }\n",
       "\n",
       "    .dataframe thead th {\n",
       "        text-align: right;\n",
       "    }\n",
       "</style>\n",
       "<table border=\"1\" class=\"dataframe\">\n",
       "  <thead>\n",
       "    <tr style=\"text-align: right;\">\n",
       "      <th></th>\n",
       "      <th>Open</th>\n",
       "      <th>High</th>\n",
       "      <th>Low</th>\n",
       "      <th>Close</th>\n",
       "      <th>Volume</th>\n",
       "      <th>Dividends</th>\n",
       "      <th>Stock Splits</th>\n",
       "    </tr>\n",
       "    <tr>\n",
       "      <th>Date</th>\n",
       "      <th></th>\n",
       "      <th></th>\n",
       "      <th></th>\n",
       "      <th></th>\n",
       "      <th></th>\n",
       "      <th></th>\n",
       "      <th></th>\n",
       "    </tr>\n",
       "  </thead>\n",
       "  <tbody>\n",
       "    <tr>\n",
       "      <th>2022-04-04</th>\n",
       "      <td>21.974895</td>\n",
       "      <td>21.974895</td>\n",
       "      <td>21.540740</td>\n",
       "      <td>21.841309</td>\n",
       "      <td>56053000</td>\n",
       "      <td>0.0</td>\n",
       "      <td>0</td>\n",
       "    </tr>\n",
       "    <tr>\n",
       "      <th>2022-04-05</th>\n",
       "      <td>21.814592</td>\n",
       "      <td>22.081765</td>\n",
       "      <td>21.634251</td>\n",
       "      <td>21.634251</td>\n",
       "      <td>45847200</td>\n",
       "      <td>0.0</td>\n",
       "      <td>0</td>\n",
       "    </tr>\n",
       "    <tr>\n",
       "      <th>2022-04-06</th>\n",
       "      <td>21.774514</td>\n",
       "      <td>21.894741</td>\n",
       "      <td>21.400475</td>\n",
       "      <td>21.614212</td>\n",
       "      <td>56947100</td>\n",
       "      <td>0.0</td>\n",
       "      <td>0</td>\n",
       "    </tr>\n",
       "    <tr>\n",
       "      <th>2022-04-07</th>\n",
       "      <td>21.801233</td>\n",
       "      <td>22.749695</td>\n",
       "      <td>21.707723</td>\n",
       "      <td>22.736336</td>\n",
       "      <td>118469400</td>\n",
       "      <td>0.0</td>\n",
       "      <td>0</td>\n",
       "    </tr>\n",
       "    <tr>\n",
       "      <th>2022-04-08</th>\n",
       "      <td>22.756372</td>\n",
       "      <td>22.983469</td>\n",
       "      <td>22.609427</td>\n",
       "      <td>22.849882</td>\n",
       "      <td>60772700</td>\n",
       "      <td>0.0</td>\n",
       "      <td>0</td>\n",
       "    </tr>\n",
       "    <tr>\n",
       "      <th>...</th>\n",
       "      <td>...</td>\n",
       "      <td>...</td>\n",
       "      <td>...</td>\n",
       "      <td>...</td>\n",
       "      <td>...</td>\n",
       "      <td>...</td>\n",
       "      <td>...</td>\n",
       "    </tr>\n",
       "    <tr>\n",
       "      <th>2022-09-28</th>\n",
       "      <td>29.670000</td>\n",
       "      <td>29.820000</td>\n",
       "      <td>28.580000</td>\n",
       "      <td>29.270000</td>\n",
       "      <td>104670700</td>\n",
       "      <td>0.0</td>\n",
       "      <td>0</td>\n",
       "    </tr>\n",
       "    <tr>\n",
       "      <th>2022-09-29</th>\n",
       "      <td>28.990000</td>\n",
       "      <td>29.400000</td>\n",
       "      <td>28.600000</td>\n",
       "      <td>29.309999</td>\n",
       "      <td>87536500</td>\n",
       "      <td>0.0</td>\n",
       "      <td>0</td>\n",
       "    </tr>\n",
       "    <tr>\n",
       "      <th>2022-09-30</th>\n",
       "      <td>29.219999</td>\n",
       "      <td>30.490000</td>\n",
       "      <td>29.000000</td>\n",
       "      <td>29.799999</td>\n",
       "      <td>121637100</td>\n",
       "      <td>0.0</td>\n",
       "      <td>0</td>\n",
       "    </tr>\n",
       "    <tr>\n",
       "      <th>2022-10-03</th>\n",
       "      <td>31.910000</td>\n",
       "      <td>32.639999</td>\n",
       "      <td>31.660000</td>\n",
       "      <td>32.180000</td>\n",
       "      <td>179694100</td>\n",
       "      <td>0.0</td>\n",
       "      <td>0</td>\n",
       "    </tr>\n",
       "    <tr>\n",
       "      <th>2022-10-04</th>\n",
       "      <td>32.900002</td>\n",
       "      <td>32.980000</td>\n",
       "      <td>31.840000</td>\n",
       "      <td>31.889999</td>\n",
       "      <td>55771900</td>\n",
       "      <td>0.0</td>\n",
       "      <td>0</td>\n",
       "    </tr>\n",
       "  </tbody>\n",
       "</table>\n",
       "<p>128 rows × 7 columns</p>\n",
       "</div>"
      ],
      "text/plain": [
       "                 Open       High        Low      Close     Volume  Dividends  \\\n",
       "Date                                                                           \n",
       "2022-04-04  21.974895  21.974895  21.540740  21.841309   56053000        0.0   \n",
       "2022-04-05  21.814592  22.081765  21.634251  21.634251   45847200        0.0   \n",
       "2022-04-06  21.774514  21.894741  21.400475  21.614212   56947100        0.0   \n",
       "2022-04-07  21.801233  22.749695  21.707723  22.736336  118469400        0.0   \n",
       "2022-04-08  22.756372  22.983469  22.609427  22.849882   60772700        0.0   \n",
       "...               ...        ...        ...        ...        ...        ...   \n",
       "2022-09-28  29.670000  29.820000  28.580000  29.270000  104670700        0.0   \n",
       "2022-09-29  28.990000  29.400000  28.600000  29.309999   87536500        0.0   \n",
       "2022-09-30  29.219999  30.490000  29.000000  29.799999  121637100        0.0   \n",
       "2022-10-03  31.910000  32.639999  31.660000  32.180000  179694100        0.0   \n",
       "2022-10-04  32.900002  32.980000  31.840000  31.889999   55771900        0.0   \n",
       "\n",
       "            Stock Splits  \n",
       "Date                      \n",
       "2022-04-04             0  \n",
       "2022-04-05             0  \n",
       "2022-04-06             0  \n",
       "2022-04-07             0  \n",
       "2022-04-08             0  \n",
       "...                  ...  \n",
       "2022-09-28             0  \n",
       "2022-09-29             0  \n",
       "2022-09-30             0  \n",
       "2022-10-03             0  \n",
       "2022-10-04             0  \n",
       "\n",
       "[128 rows x 7 columns]"
      ]
     },
     "execution_count": 4,
     "metadata": {},
     "output_type": "execute_result"
    }
   ],
   "source": [
    "tabela = dados.history(\"6mo\")\n",
    "tabela"
   ]
  },
  {
   "cell_type": "markdown",
   "id": "0c0c72b0",
   "metadata": {},
   "source": [
    "<h3 style=\"color: #2F666F\">Selecionando apenas a coluna de Fechamento (Close)</h3>\n",
    "\n",
    "- Para selecionar a coluna desejada, basta colocar o nome dela entre colchetes na frente da variável que está armazenando os dados"
   ]
  },
  {
   "cell_type": "code",
   "execution_count": 6,
   "id": "5f4798cf",
   "metadata": {},
   "outputs": [
    {
     "data": {
      "text/plain": [
       "Date\n",
       "2022-04-04    21.841309\n",
       "2022-04-05    21.634251\n",
       "2022-04-06    21.614212\n",
       "2022-04-07    22.736336\n",
       "2022-04-08    22.849882\n",
       "                ...    \n",
       "2022-09-28    29.270000\n",
       "2022-09-29    29.309999\n",
       "2022-09-30    29.799999\n",
       "2022-10-03    32.180000\n",
       "2022-10-04    31.889999\n",
       "Name: Close, Length: 128, dtype: float64"
      ]
     },
     "execution_count": 6,
     "metadata": {},
     "output_type": "execute_result"
    }
   ],
   "source": [
    "fechamento = tabela.Close\n",
    "fechamento"
   ]
  },
  {
   "cell_type": "markdown",
   "id": "aa9cf694",
   "metadata": {},
   "source": [
    "<h3 style=\"color: #2F666F\">Gerando um gráfico de linha</h3>\n",
    "\n",
    "- Vamos gerar um gráfico muito simples, apenas utilizando o método **.plot()**"
   ]
  },
  {
   "cell_type": "code",
   "execution_count": 7,
   "id": "0d746d29",
   "metadata": {},
   "outputs": [
    {
     "data": {
      "text/plain": [
       "<AxesSubplot:xlabel='Date'>"
      ]
     },
     "execution_count": 7,
     "metadata": {},
     "output_type": "execute_result"
    },
    {
     "data": {
      "image/png": "[encoded data removed]",
      "text/plain": [
       "<Figure size 432x288 with 1 Axes>"
      ]
     },
     "metadata": {
      "needs_background": "light"
     },
     "output_type": "display_data"
    }
   ],
   "source": [
    "fechamento.plot()"
   ]
  },
  {
   "cell_type": "markdown",
   "id": "9c2ab330",
   "metadata": {},
   "source": [
    "<h3 style=\"color: #2F666F\">Gerando as estatísticas</h3>\n",
    "\n",
    "- Gerar estatísticas no Python é muito simples, pois já temos os métodos prontos para serem aplicados!\n",
    "\n",
    "\n",
    "- **cotação máxima:** max()\n",
    "- **votação mínima:** min()\n",
    "- **cotação atual:** é a última linha!Para acessá-la basta colocar [-1]"
   ]
  },
  {
   "cell_type": "code",
   "execution_count": 8,
   "id": "2e768bb3",
   "metadata": {},
   "outputs": [
    {
     "name": "stdout",
     "output_type": "stream",
     "text": [
      "34.47999954223633\n",
      "21.407672882080078\n",
      "31.889999389648438\n"
     ]
    }
   ],
   "source": [
    "maxima = fechamento.max()\n",
    "minima = fechamento.min()\n",
    "atual = fechamento[-1]\n",
    "\n",
    "print(maxima)\n",
    "print(minima)\n",
    "print(atual)"
   ]
  },
  {
   "cell_type": "markdown",
   "id": "31baabe5",
   "metadata": {},
   "source": [
    "<h2 style=\"color: #37709F\">Enviando e-mail de forma automática</h2>\n",
    "\n",
    "- Processo de enviar um e-mail passo a passo:\n",
    "    - abrir uma nova aba no navegador (clicar em + ou CTRL + T)\n",
    "    - digitar o endereço do gmail (www.gmail.com) e digitar ENTER\n",
    "    - clicar em **Escrever**\n",
    "    - digitar o endereço de e-mail do destinatário\n",
    "    - mudar para o campo Assunto (clicar no campo ou digitar tab)\n",
    "    - digitar o Assunto\n",
    "    - mudar para campo principal do e-mail (clicar no campo ou digitar tab)\n",
    "    - escrever a mensagem\n",
    "    - clicar em **Enviar**"
   ]
  },
  {
   "cell_type": "markdown",
   "id": "9656a8e7",
   "metadata": {},
   "source": [
    "<h3 style=\"color: #2F666F\">Instalando as bibliotecas</h3>"
   ]
  },
  {
   "cell_type": "code",
   "execution_count": 34,
   "id": "d23ea22f",
   "metadata": {},
   "outputs": [],
   "source": [
    "!pip install pyautogui"
   ]
  },
  {
   "cell_type": "code",
   "execution_count": 37,
   "id": "dba37fe7",
   "metadata": {},
   "outputs": [],
   "source": [
    "!pip install pyperclip"
   ]
  },
  {
   "cell_type": "code",
   "execution_count": 9,
   "id": "527fa631",
   "metadata": {},
   "outputs": [],
   "source": [
    "import pyautogui\n",
    "import pyperclip"
   ]
  },
  {
   "cell_type": "markdown",
   "id": "44784540",
   "metadata": {},
   "source": [
    "<h3 style=\"color: #2F666F\">Criando o e-mail que vamos enviar</h3>"
   ]
  },
  {
   "cell_type": "code",
   "execution_count": 15,
   "id": "0f056a80",
   "metadata": {},
   "outputs": [],
   "source": [
    "destinatario = \"seuemail@gmail.com\"\n",
    "assunto = \"Análise diária\"\n",
    "\n",
    "mensagem = f\"\"\"\n",
    "Bom dia,\n",
    "\n",
    "Segue abaixo as análises da ação {ticker} dos últimos seis meses:\n",
    "\n",
    "Cotação máxima: R${round(maxima,2)}\n",
    "Cotação mínima: R${round(minima,2)}\n",
    "Cotação atual: R${round(atual,2)}\n",
    "\n",
    "Atenciosamente,\n",
    "Seu nome.\n",
    "\"\"\""
   ]
  },
  {
   "cell_type": "code",
   "execution_count": 16,
   "id": "db452ca5",
   "metadata": {},
   "outputs": [
    {
     "name": "stdout",
     "output_type": "stream",
     "text": [
      "seuemail@gmail.com\n",
      "Análise diária\n",
      "\n",
      "Bom dia,\n",
      "\n",
      "Segue abaixo as análises da ação PETR4.SA dos últimos seis meses:\n",
      "\n",
      "Cotação máxima: R$34.48\n",
      "Cotação mínima: R$21.41\n",
      "Cotação atual: R$31.89\n",
      "\n"
     ]
    }
   ],
   "source": [
    "print(destinatario)\n",
    "print(assunto)\n",
    "print(mensagem)"
   ]
  },
  {
   "cell_type": "markdown",
   "id": "7035fdeb",
   "metadata": {},
   "source": [
    "<h3 style=\"color: #2F666F\">Automatizando o envio</h3>"
   ]
  },
  {
   "cell_type": "code",
   "execution_count": 14,
   "id": "96727900",
   "metadata": {},
   "outputs": [
    {
     "name": "stdout",
     "output_type": "stream",
     "text": [
      "E-mail enviado com sucesso!\n"
     ]
    }
   ],
   "source": [
    "# configurar uma pausa entre as ações do pyautogui\n",
    "pyautogui.PAUSE = 3\n",
    "\n",
    "# abrir uma nova aba\n",
    "pyautogui.hotkey(\"ctrl\", \"t\")\n",
    "\n",
    "# copiar o endereço do gmail para o clipboard\n",
    "pyperclip.copy(\"www.gmail.com\")\n",
    "\n",
    "# colar o endereço do gmail e dar um ENTER\n",
    "pyautogui.hotkey(\"ctrl\", \"v\")\n",
    "pyautogui.press(\"enter\")\n",
    "\n",
    "# clicando no botão Escrever\n",
    "pyautogui.click(x=2034, y=210)\n",
    "\n",
    "# Preenchendo o destinatário\n",
    "pyperclip.copy(destinatario)\n",
    "pyautogui.hotkey(\"ctrl\", \"v\")\n",
    "pyautogui.press(\"tab\")\n",
    "\n",
    "# Preenchendo o assunto\n",
    "pyperclip.copy(assunto)\n",
    "pyautogui.hotkey(\"ctrl\", \"v\")\n",
    "pyautogui.press(\"tab\")\n",
    "\n",
    "# Preenchendo a mensagem\n",
    "pyperclip.copy(mensagem)\n",
    "pyautogui.hotkey(\"ctrl\", \"v\")\n",
    "\n",
    "# Clicar no botão Enviar\n",
    "pyautogui.click(x=3107, y=975)\n",
    "\n",
    "# fechar a aba do gmail\n",
    "pyautogui.hotkey(\"ctrl\", \"f4\")\n",
    "\n",
    "# Imprimir mensagem de enviado com sucesso\n",
    "print('E-mail enviado com sucesso!')"
   ]
  },
  {
   "cell_type": "markdown",
   "id": "7e4dc070",
   "metadata": {},
   "source": [
    "<h4>Código para descobrir as coordenados do mouse</h4>"
   ]
  },
  {
   "cell_type": "code",
   "execution_count": 13,
   "id": "8f013ae8",
   "metadata": {},
   "outputs": [
    {
     "data": {
      "text/plain": [
       "Point(x=3107, y=975)"
      ]
     },
     "execution_count": 13,
     "metadata": {},
     "output_type": "execute_result"
    }
   ],
   "source": [
    "import time\n",
    "\n",
    "time.sleep(5)\n",
    "pyautogui.position()"
   ]
  },
  {
   "cell_type": "markdown",
   "id": "5f5bdbc6",
   "metadata": {},
   "source": [
    "<img src=\"https://i.imgur.com/26pQ7tA.png\" alt=\"Parabéns\" />"
   ]
  }
 ],
 "metadata": {
  "kernelspec": {
   "display_name": "Python 3 (ipykernel)",
   "language": "python",
   "name": "python3"
  },
  "language_info": {
   "codemirror_mode": {
    "name": "ipython",
    "version": 3
   },
   "file_extension": ".py",
   "mimetype": "text/x-python",
   "name": "python",
   "nbconvert_exporter": "python",
   "pygments_lexer": "ipython3",
   "version": "3.9.12"
  }
 },
 "nbformat": 4,
 "nbformat_minor": 5
}
