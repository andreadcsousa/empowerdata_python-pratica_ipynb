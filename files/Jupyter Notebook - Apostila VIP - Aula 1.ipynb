{
 "cells": [
  {
   "cell_type": "markdown",
   "id": "9699f4d6",
   "metadata": {},
   "source": [
    "<img src=\"https://i.imgur.com/RCb4dXy.png\" alt=\"Semana Python na Prática\"/>"
   ]
  },
  {
   "cell_type": "markdown",
   "id": "f90026d1",
   "metadata": {},
   "source": [
    "<h2> O que vamos aprender nessa aula?</h2>\n",
    "\n",
    "- **Criar nosso primeiro código em Python para:**\n",
    "    - imprimir dados na tela do computador\n",
    "    - receber dados do usuário\n",
    "    - entender o que são os tipos de dados\n",
    "    - converter tipos de dados\n",
    "    - utilizar variáveis para armazenar dados\n",
    "    - instalar e utilizar a biblioteca `fpdf`\n",
    "   \n",
    "    \n",
    "    \n",
    "- **Desafio da aula:**\n",
    "    - Você começou a aprender python e agora vai desenvolver um pequeno sistema para emitir orçamentos de forma automática.\n",
    "    - O orçamento deve ser emitido em **PDF** e **conter as seguintes informações**:\n",
    "        - Descrição do projeto\n",
    "        - Quantidade de horas estimadas no projeto\n",
    "        - Valor da hora trabalhada\n",
    "        - Prazo de entrega estimado\n",
    "        - Valor total estimado\n",
    "    \n",
    "    \n",
    "    "
   ]
  },
  {
   "cell_type": "markdown",
   "id": "93f8bee3",
   "metadata": {},
   "source": [
    "<h2 style=\"color: #37709F\">Nosso primeiro código em Python</h2>"
   ]
  },
  {
   "cell_type": "markdown",
   "id": "3598eeb8",
   "metadata": {},
   "source": [
    "<h3 style=\"color: #2F666F\">O ambiente Jupyter Notebook</h3>\n",
    "\n",
    "- Células de texto (Markdown)\n",
    "- Células de código (Code)\n",
    "- Comentários no Python"
   ]
  },
  {
   "cell_type": "markdown",
   "id": "de3b86e3",
   "metadata": {},
   "source": [
    "Isso é uma célula de texto"
   ]
  },
  {
   "cell_type": "code",
   "execution_count": 1,
   "id": "9342a5ac",
   "metadata": {},
   "outputs": [],
   "source": [
    "# isso é um comentário no Python"
   ]
  },
  {
   "cell_type": "markdown",
   "id": "6160e01b",
   "metadata": {},
   "source": [
    "<h3 style=\"color: #2F666F\">Imprimindo dados na tela do computador</h3>\n",
    "\n",
    "- Para imprimir dados na tela do computador, utilizamos a função **print()**."
   ]
  },
  {
   "cell_type": "code",
   "execution_count": 2,
   "id": "57dd07bb",
   "metadata": {},
   "outputs": [
    {
     "name": "stdout",
     "output_type": "stream",
     "text": [
      "Semana Python na Prática\n"
     ]
    }
   ],
   "source": [
    "print(\"Semana Python na Prática\")"
   ]
  },
  {
   "cell_type": "code",
   "execution_count": 3,
   "id": "63d5650a",
   "metadata": {},
   "outputs": [
    {
     "name": "stdout",
     "output_type": "stream",
     "text": [
      "Meu primeiro código\n"
     ]
    }
   ],
   "source": [
    "print(\"Meu primeiro código\")"
   ]
  },
  {
   "cell_type": "markdown",
   "id": "5faef70a",
   "metadata": {},
   "source": [
    "<h3 style=\"color: #2F666F\">Tipos de Dados: textos e números</h3>\n",
    "\n",
    "- Texto: **str**\n",
    "- Numérico:\n",
    "    - inteiro: **int**\n",
    "    - com casa decimal: **float**\n",
    "    - **ATENÇÃO:** o separador de cadas decimais no Python é o **ponto** e não a vírgula\n",
    "        - **10,3** (errado)\n",
    "        - **10.3** (correto)\n",
    "- Para verificar o tipo de dados, podemos utilizar a função **type()**.\n",
    "\n",
    "\n",
    "- **Operadores aritméticos:**\n",
    "    - adição: +\n",
    "    - subtração: -\n",
    "    - multiplicação: * (asterisco)\n",
    "    - divisão: / (barra)"
   ]
  },
  {
   "cell_type": "code",
   "execution_count": 4,
   "id": "198f3d1d",
   "metadata": {
    "scrolled": true
   },
   "outputs": [
    {
     "name": "stdout",
     "output_type": "stream",
     "text": [
      "10\n"
     ]
    }
   ],
   "source": [
    "# isso é um tipo texto\n",
    "print(\"10\")"
   ]
  },
  {
   "cell_type": "code",
   "execution_count": 5,
   "id": "274c6b3d",
   "metadata": {},
   "outputs": [
    {
     "data": {
      "text/plain": [
       "str"
      ]
     },
     "execution_count": 5,
     "metadata": {},
     "output_type": "execute_result"
    }
   ],
   "source": [
    "type(\"10\")"
   ]
  },
  {
   "cell_type": "code",
   "execution_count": 6,
   "id": "c9a9e9bd",
   "metadata": {},
   "outputs": [
    {
     "name": "stdout",
     "output_type": "stream",
     "text": [
      "10\n"
     ]
    }
   ],
   "source": [
    "# isso é um tipo numérico (número inteiro)\n",
    "print(10)"
   ]
  },
  {
   "cell_type": "code",
   "execution_count": 7,
   "id": "aa4d7043",
   "metadata": {},
   "outputs": [
    {
     "data": {
      "text/plain": [
       "int"
      ]
     },
     "execution_count": 7,
     "metadata": {},
     "output_type": "execute_result"
    }
   ],
   "source": [
    "type(10)"
   ]
  },
  {
   "cell_type": "code",
   "execution_count": 8,
   "id": "3ed0229d",
   "metadata": {},
   "outputs": [
    {
     "name": "stdout",
     "output_type": "stream",
     "text": [
      "10.5\n"
     ]
    }
   ],
   "source": [
    "# isso é um tipo númerico (número com casa decimal)\n",
    "print(10.5)"
   ]
  },
  {
   "cell_type": "code",
   "execution_count": 9,
   "id": "96a11cb1",
   "metadata": {},
   "outputs": [
    {
     "data": {
      "text/plain": [
       "float"
      ]
     },
     "execution_count": 9,
     "metadata": {},
     "output_type": "execute_result"
    }
   ],
   "source": [
    "type(10.5)"
   ]
  },
  {
   "cell_type": "code",
   "execution_count": 10,
   "id": "2bb9ec29",
   "metadata": {},
   "outputs": [
    {
     "name": "stdout",
     "output_type": "stream",
     "text": [
      "11\n"
     ]
    }
   ],
   "source": [
    "print(10 + 1)"
   ]
  },
  {
   "cell_type": "code",
   "execution_count": 11,
   "id": "b6870d6c",
   "metadata": {},
   "outputs": [
    {
     "name": "stdout",
     "output_type": "stream",
     "text": [
      "5\n"
     ]
    }
   ],
   "source": [
    "print(10 -5)"
   ]
  },
  {
   "cell_type": "code",
   "execution_count": 12,
   "id": "3b88ce1e",
   "metadata": {},
   "outputs": [
    {
     "name": "stdout",
     "output_type": "stream",
     "text": [
      "100\n"
     ]
    }
   ],
   "source": [
    "print(10 * 10)"
   ]
  },
  {
   "cell_type": "code",
   "execution_count": 13,
   "id": "58583572",
   "metadata": {},
   "outputs": [
    {
     "name": "stdout",
     "output_type": "stream",
     "text": [
      "10.0\n"
     ]
    }
   ],
   "source": [
    "print(100 / 10)"
   ]
  },
  {
   "cell_type": "code",
   "execution_count": 14,
   "id": "3253d5bf",
   "metadata": {},
   "outputs": [
    {
     "name": "stdout",
     "output_type": "stream",
     "text": [
      "10 + 20\n"
     ]
    }
   ],
   "source": [
    "# CUIDADO!!!! Não podemos realizar cálculos com textos e nem entre tipos diferentes!\n",
    "print(\"10 + 20\")"
   ]
  },
  {
   "cell_type": "code",
   "execution_count": 15,
   "id": "e63ac503",
   "metadata": {},
   "outputs": [
    {
     "ename": "TypeError",
     "evalue": "can only concatenate str (not \"int\") to str",
     "output_type": "error",
     "traceback": [
      "\u001b[1;31m---------------------------------------------------------------------------\u001b[0m",
      "\u001b[1;31mTypeError\u001b[0m                                 Traceback (most recent call last)",
      "Input \u001b[1;32mIn [15]\u001b[0m, in \u001b[0;36m<cell line: 2>\u001b[1;34m()\u001b[0m\n\u001b[0;32m      1\u001b[0m \u001b[38;5;66;03m# gera um erro, pois estamos somando um texto com um número inteiro!\u001b[39;00m\n\u001b[1;32m----> 2\u001b[0m \u001b[38;5;28mprint\u001b[39m(\u001b[38;5;124;43m\"\u001b[39;49m\u001b[38;5;124;43m10\u001b[39;49m\u001b[38;5;124;43m\"\u001b[39;49m\u001b[43m \u001b[49m\u001b[38;5;241;43m+\u001b[39;49m\u001b[43m \u001b[49m\u001b[38;5;241;43m10\u001b[39;49m)\n",
      "\u001b[1;31mTypeError\u001b[0m: can only concatenate str (not \"int\") to str"
     ]
    }
   ],
   "source": [
    "# gera um erro, pois estamos somando um texto com um número inteiro!\n",
    "print(\"10\" + 10)"
   ]
  },
  {
   "cell_type": "markdown",
   "id": "15eadd35",
   "metadata": {},
   "source": [
    "<h3 style=\"color: #2F666F\">Recebendo dados do usuário</h3>\n",
    "\n",
    "- Para receber dados de um usuário, podemos utilizar a função **input()**."
   ]
  },
  {
   "cell_type": "code",
   "execution_count": 16,
   "id": "12f34aee",
   "metadata": {},
   "outputs": [
    {
     "name": "stdout",
     "output_type": "stream",
     "text": [
      "Semana do Python na Prática\n"
     ]
    },
    {
     "data": {
      "text/plain": [
       "'Semana do Python na Prática'"
      ]
     },
     "execution_count": 16,
     "metadata": {},
     "output_type": "execute_result"
    }
   ],
   "source": [
    "input()"
   ]
  },
  {
   "cell_type": "code",
   "execution_count": 17,
   "id": "7be6dffa",
   "metadata": {},
   "outputs": [
    {
     "name": "stdout",
     "output_type": "stream",
     "text": [
      "Digite o seu nome: Maria\n",
      "Digite a sua idade: 29\n"
     ]
    },
    {
     "data": {
      "text/plain": [
       "'29'"
      ]
     },
     "execution_count": 17,
     "metadata": {},
     "output_type": "execute_result"
    }
   ],
   "source": [
    "input(\"Digite o seu nome: \")\n",
    "input(\"Digite a sua idade: \")"
   ]
  },
  {
   "cell_type": "markdown",
   "id": "115c1fc0",
   "metadata": {},
   "source": [
    "<h3 style=\"color: #2F666F\">Variáveis: guardando informações</h3>\n",
    "\n",
    "- Variáveis são **espaços na memória do computador** que o Python utiliza para guardar um dado.\n",
    "- Nome de variáveis não podem:\n",
    "    - ser palavras reservadas da linguagem\n",
    "    - começar com um número\n",
    "    - conter espaço em branco e nem caracteres especiais (acento, cedilha....etc)"
   ]
  },
  {
   "cell_type": "code",
   "execution_count": 18,
   "id": "c1f89a87",
   "metadata": {},
   "outputs": [
    {
     "name": "stdout",
     "output_type": "stream",
     "text": [
      "Semana do Python na Prática\n"
     ]
    }
   ],
   "source": [
    "nome = \"Semana do Python na Prática\"\n",
    "print(nome)"
   ]
  },
  {
   "cell_type": "code",
   "execution_count": 19,
   "id": "5491e18c",
   "metadata": {},
   "outputs": [
    {
     "name": "stdout",
     "output_type": "stream",
     "text": [
      "30\n"
     ]
    }
   ],
   "source": [
    "numero1 = 10\n",
    "numero2 = 20\n",
    "resultado = numero1 + numero2\n",
    "print(resultado)"
   ]
  },
  {
   "cell_type": "code",
   "execution_count": 20,
   "id": "660dc2b2",
   "metadata": {},
   "outputs": [
    {
     "name": "stdout",
     "output_type": "stream",
     "text": [
      "Digite o nome: Maria\n",
      "Digite a sua idade: 29\n",
      "Digite o seu peso: 60.5\n"
     ]
    }
   ],
   "source": [
    "nome = input(\"Digite o nome: \")\n",
    "idade = input(\"Digite a sua idade: \")\n",
    "peso = input(\"Digite o seu peso: \")"
   ]
  },
  {
   "cell_type": "code",
   "execution_count": 21,
   "id": "7ff2d7e5",
   "metadata": {},
   "outputs": [
    {
     "data": {
      "text/plain": [
       "str"
      ]
     },
     "execution_count": 21,
     "metadata": {},
     "output_type": "execute_result"
    }
   ],
   "source": [
    "# CUIDADO! Todos os dados que digitamos no input() são TEXTO, mesmo os números!\n",
    "type(nome)"
   ]
  },
  {
   "cell_type": "code",
   "execution_count": 22,
   "id": "504d2f62",
   "metadata": {},
   "outputs": [
    {
     "data": {
      "text/plain": [
       "str"
      ]
     },
     "execution_count": 22,
     "metadata": {},
     "output_type": "execute_result"
    }
   ],
   "source": [
    "type(idade)"
   ]
  },
  {
   "cell_type": "code",
   "execution_count": 23,
   "id": "2688583d",
   "metadata": {},
   "outputs": [
    {
     "data": {
      "text/plain": [
       "str"
      ]
     },
     "execution_count": 23,
     "metadata": {},
     "output_type": "execute_result"
    }
   ],
   "source": [
    "type(peso)"
   ]
  },
  {
   "cell_type": "markdown",
   "id": "0abf88e8",
   "metadata": {},
   "source": [
    "<img src=\"https://i.imgur.com/zf1e1Ys.png\" alt=\"Convertendo tipos\"/>"
   ]
  },
  {
   "cell_type": "markdown",
   "id": "f3a0e85f",
   "metadata": {},
   "source": [
    "- Para converter números em texto, podemos utilizar a função **str**.\n",
    "- Para converter textos em número, podemos utilizar as funções:\n",
    "    - **int:** para converter em um número inteiro\n",
    "    - **float:** para convert em um número com casas decimais"
   ]
  },
  {
   "cell_type": "code",
   "execution_count": 24,
   "id": "c7efa256",
   "metadata": {},
   "outputs": [
    {
     "name": "stdout",
     "output_type": "stream",
     "text": [
      "39\n"
     ]
    }
   ],
   "source": [
    "print(int(idade) + 10)"
   ]
  },
  {
   "cell_type": "code",
   "execution_count": 25,
   "id": "d68ce125",
   "metadata": {},
   "outputs": [
    {
     "name": "stdout",
     "output_type": "stream",
     "text": [
      "70.5\n"
     ]
    }
   ],
   "source": [
    "print(float(peso) + 10)"
   ]
  },
  {
   "cell_type": "code",
   "execution_count": 26,
   "id": "6eada518",
   "metadata": {},
   "outputs": [
    {
     "name": "stdout",
     "output_type": "stream",
     "text": [
      "10.34\n"
     ]
    }
   ],
   "source": [
    "print(float(\"10.34\"))"
   ]
  },
  {
   "cell_type": "code",
   "execution_count": 27,
   "id": "953b937d",
   "metadata": {},
   "outputs": [
    {
     "data": {
      "text/plain": [
       "int"
      ]
     },
     "execution_count": 27,
     "metadata": {},
     "output_type": "execute_result"
    }
   ],
   "source": [
    "type(10)"
   ]
  },
  {
   "cell_type": "code",
   "execution_count": 28,
   "id": "f0063168",
   "metadata": {},
   "outputs": [
    {
     "data": {
      "text/plain": [
       "str"
      ]
     },
     "execution_count": 28,
     "metadata": {},
     "output_type": "execute_result"
    }
   ],
   "source": [
    "type(str(10))"
   ]
  },
  {
   "cell_type": "markdown",
   "id": "0ff54bbc",
   "metadata": {},
   "source": [
    "<h3 style=\"color: #2F666F\">Juntando textos com variáveis</h3>\n",
    "\n",
    "- Para juntar textos com os dados de uma variável, podemos utilizar os **textos formatados**.\n",
    "    - basta utilizar um **f** antes das aspas do texto e colocar a **variável dentro de chaves**."
   ]
  },
  {
   "cell_type": "code",
   "execution_count": 29,
   "id": "a0f8d53d",
   "metadata": {},
   "outputs": [
    {
     "name": "stdout",
     "output_type": "stream",
     "text": [
      "Digite o seu nome: Maria\n",
      "Digite a sua idade: 29\n"
     ]
    }
   ],
   "source": [
    "nome = input(\"Digite o seu nome: \")\n",
    "idade = input(\"Digite a sua idade: \")"
   ]
  },
  {
   "cell_type": "code",
   "execution_count": 30,
   "id": "dd763c77",
   "metadata": {},
   "outputs": [
    {
     "name": "stdout",
     "output_type": "stream",
     "text": [
      "Meu nome é Maria e eu tenho 29 anos!\n"
     ]
    }
   ],
   "source": [
    "print(f\"Meu nome é {nome} e eu tenho {idade} anos!\")"
   ]
  },
  {
   "cell_type": "markdown",
   "id": "bb2c014a",
   "metadata": {},
   "source": [
    "<img src=\"https://i.imgur.com/4tAd850.png\" alt=\"Projeto da Aula\" />"
   ]
  },
  {
   "cell_type": "markdown",
   "id": "0add54e3",
   "metadata": {},
   "source": [
    "<h3 style=\"color: #2F666F\">Desenvolvendo as entradas de dados</h3>\n",
    "\n",
    "- Descrição do projeto\n",
    "- Total de horas estimadas\n",
    "- Valor da hora de trabalho\n",
    "- Prazo de entrega estimado"
   ]
  },
  {
   "cell_type": "code",
   "execution_count": 32,
   "id": "dbf2d19f",
   "metadata": {},
   "outputs": [
    {
     "name": "stdout",
     "output_type": "stream",
     "text": [
      "Digite a descrição do projeto: Desenvolvimento Python\n",
      "Digite o total de horas estimadas: 60\n",
      "Digite o valor da hora trabalhada: 120\n",
      "Digite o prazo estimado: 2 meses\n"
     ]
    }
   ],
   "source": [
    "projeto = input(\"Digite a descrição do projeto: \")\n",
    "horas_estimadas = input(\"Digite o total de horas estimadas: \")\n",
    "valor_hora = input(\"Digite o valor da hora trabalhada: \")\n",
    "prazo_estimado = input(\"Digite o prazo estimado: \")"
   ]
  },
  {
   "cell_type": "markdown",
   "id": "f8f7318b",
   "metadata": {},
   "source": [
    "<h3 style=\"color: #2F666F\">Criando o cálculo do valor total estimado</h3>\n",
    "\n",
    "- **Cálculo:** `valor total estimado = total de horas estimadadas x valor da hora de trabalho`"
   ]
  },
  {
   "cell_type": "code",
   "execution_count": 33,
   "id": "5742f5ef",
   "metadata": {},
   "outputs": [],
   "source": [
    "valor_total_estimado = int(horas_estimadas) * int(valor_hora)"
   ]
  },
  {
   "cell_type": "code",
   "execution_count": 34,
   "id": "7934201a",
   "metadata": {},
   "outputs": [
    {
     "name": "stdout",
     "output_type": "stream",
     "text": [
      "7200\n"
     ]
    }
   ],
   "source": [
    "print(valor_total_estimado)"
   ]
  },
  {
   "cell_type": "markdown",
   "id": "058e1c18",
   "metadata": {},
   "source": [
    "<h3 style=\"color: #2F666F\">Gerando o PDF com o orçamento</h3>"
   ]
  },
  {
   "cell_type": "markdown",
   "id": "31aafa15",
   "metadata": {},
   "source": [
    "<h4>Instalando a biblioteca</h4>"
   ]
  },
  {
   "cell_type": "code",
   "execution_count": null,
   "id": "f573ade9",
   "metadata": {},
   "outputs": [],
   "source": [
    "!pip install fpdf"
   ]
  },
  {
   "cell_type": "code",
   "execution_count": 35,
   "id": "1e3c8129",
   "metadata": {},
   "outputs": [],
   "source": [
    "# importando a biblioteca\n",
    "from fpdf import FPDF"
   ]
  },
  {
   "cell_type": "markdown",
   "id": "865a532c",
   "metadata": {},
   "source": [
    "<h4>Criando um arquivo PDF</h4>"
   ]
  },
  {
   "cell_type": "code",
   "execution_count": 36,
   "id": "ca83e985",
   "metadata": {},
   "outputs": [],
   "source": [
    "pdf = FPDF()\n",
    "pdf.add_page()\n",
    "pdf.set_font(\"Arial\")"
   ]
  },
  {
   "cell_type": "markdown",
   "id": "37ae1b1f",
   "metadata": {},
   "source": [
    "<h4>Inserindo os dados no PDF</h4>"
   ]
  },
  {
   "cell_type": "code",
   "execution_count": 37,
   "id": "3bfe7a1f",
   "metadata": {},
   "outputs": [],
   "source": [
    "# utilizando um template\n",
    "pdf.image(\"template.png\", x=0, y=0 )\n",
    "\n",
    "# inserindo os dados do projeto\n",
    "pdf.text(115, 145, projeto)\n",
    "pdf.text(115, 160, horas_estimadas)\n",
    "pdf.text(115, 175, valor_hora)\n",
    "pdf.text(115, 190, prazo_estimado)\n",
    "pdf.text(115, 205, str(valor_total_estimado))"
   ]
  },
  {
   "cell_type": "markdown",
   "id": "1ad01475",
   "metadata": {},
   "source": [
    "<h4>Salvando o arquivo</h4>"
   ]
  },
  {
   "cell_type": "code",
   "execution_count": 39,
   "id": "89a4beb4",
   "metadata": {},
   "outputs": [
    {
     "name": "stdout",
     "output_type": "stream",
     "text": [
      "Orçamento gerado com sucesso!\n"
     ]
    }
   ],
   "source": [
    "pdf.output(\"orçamento.pdf\")\n",
    "print(\"Orçamento gerado com sucesso!\")"
   ]
  },
  {
   "cell_type": "markdown",
   "id": "9e2fb9a5",
   "metadata": {},
   "source": [
    "<img src=\"https://i.imgur.com/Eff30Hw.png\" alt=\"Parabéns\" />"
   ]
  }
 ],
 "metadata": {
  "kernelspec": {
   "display_name": "Python 3 (ipykernel)",
   "language": "python",
   "name": "python3"
  },
  "language_info": {
   "codemirror_mode": {
    "name": "ipython",
    "version": 3
   },
   "file_extension": ".py",
   "mimetype": "text/x-python",
   "name": "python",
   "nbconvert_exporter": "python",
   "pygments_lexer": "ipython3",
   "version": "3.9.12"
  },
  "vscode": {
   "interpreter": {
    "hash": "6467cde764c137f84d8db938254cde60243c46e0fe8734c86fbe71b9c1c73122"
   }
  }
 },
 "nbformat": 4,
 "nbformat_minor": 5
}
